{
 "cells": [
  {
   "cell_type": "code",
   "execution_count": null,
   "id": "ffe2b15e",
   "metadata": {},
   "outputs": [],
   "source": [
    "\n",
    "\n",
    "double = lambda x : x*2\n",
    "\n",
    "print(double(5))"
   ]
  },
  {
   "cell_type": "code",
   "execution_count": null,
   "id": "f71fb7ef",
   "metadata": {},
   "outputs": [],
   "source": []
  }
 ],
 "metadata": {
  "kernelspec": {
   "display_name": "Python 3 (ipykernel)",
   "language": "python",
   "name": "python3"
  }
 },
 "nbformat": 4,
 "nbformat_minor": 5
}
